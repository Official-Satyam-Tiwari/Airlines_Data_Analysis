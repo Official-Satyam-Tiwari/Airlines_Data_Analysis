{
 "cells": [
  {
   "cell_type": "markdown",
   "id": "5c0cd5d6",
   "metadata": {},
   "source": [
    "### Objective\n",
    "\n",
    "The goal of this data analysis project using SQL would be to identify the opportunities to increase the occupancy rate on low performing flights, which can ultimately lead to increased profitability of airline."
   ]
  },
  {
   "cell_type": "markdown",
   "id": "e88cc1b4",
   "metadata": {},
   "source": [
    "### 1. Importing Libraries"
   ]
  },
  {
   "cell_type": "code",
   "execution_count": 1,
   "id": "00324554",
   "metadata": {},
   "outputs": [],
   "source": [
    "import sqlite3\n",
    "import json\n",
    "import pandas as pd\n",
    "import matplotlib.pyplot as plt\n",
    "from tabulate import tabulate\n",
    "import seaborn as sns\n",
    "import warnings\n",
    "warnings.filterwarnings(\"ignore\")"
   ]
  },
  {
   "cell_type": "markdown",
   "id": "7af57a20",
   "metadata": {},
   "source": [
    "### 2. Database Connection"
   ]
  },
  {
   "cell_type": "code",
   "execution_count": 2,
   "id": "5e4d90bc",
   "metadata": {},
   "outputs": [],
   "source": [
    "connection = sqlite3.connect(\"travel.sqlite\")\n",
    "cursor = connection.cursor()"
   ]
  },
  {
   "cell_type": "code",
   "execution_count": 3,
   "id": "393dbd73",
   "metadata": {},
   "outputs": [
    {
     "name": "stdout",
     "output_type": "stream",
     "text": [
      "List of all tables present in the database\n"
     ]
    },
    {
     "data": {
      "text/plain": [
       "['aircrafts_data',\n",
       " 'airports_data',\n",
       " 'boarding_passes',\n",
       " 'bookings',\n",
       " 'flights',\n",
       " 'seats',\n",
       " 'ticket_flights',\n",
       " 'tickets']"
      ]
     },
     "execution_count": 3,
     "metadata": {},
     "output_type": "execute_result"
    }
   ],
   "source": [
    "cursor.execute(\"\"\"SELECT name FROM sqlite_master WHERE type='table';\"\"\") #\"sqlite_master\" table contains metadata about all the objects (including tables) in the database\n",
    "print(\"List of all tables present in the database\")\n",
    "table_list = [table[0] for table in cursor.fetchall()]\n",
    "table_list"
   ]
  },
  {
   "cell_type": "markdown",
   "id": "4f0f2a27",
   "metadata": {},
   "source": [
    "### 3. Data Exploration"
   ]
  },
  {
   "cell_type": "code",
   "execution_count": 4,
   "id": "dad5dff8",
   "metadata": {},
   "outputs": [
    {
     "name": "stdout",
     "output_type": "stream",
     "text": [
      "Shapes of all tables:\n",
      "---------------------\n",
      "aircrafts_data -> (9, 3)\n",
      "airports_data -> (104, 5)\n",
      "boarding_passes -> (579686, 4)\n",
      "bookings -> (262788, 3)\n",
      "flights -> (33121, 10)\n",
      "seats -> (1339, 3)\n",
      "ticket_flights -> (1045726, 4)\n",
      "tickets -> (366733, 3)\n"
     ]
    }
   ],
   "source": [
    "print(\"Shapes of all tables:\")\n",
    "print(\"---------------------\")\n",
    "for table_name in table_list:\n",
    "    df = pd.read_sql_query(f\"SELECT * FROM {table_name};\",connection)\n",
    "    print(f\"{table_name} -> {df.shape}\")"
   ]
  },
  {
   "cell_type": "code",
   "execution_count": 5,
   "id": "fda32cba",
   "metadata": {
    "scrolled": true
   },
   "outputs": [
    {
     "name": "stdout",
     "output_type": "stream",
     "text": [
      "Checking all tables:\n",
      "---------------------------\n",
      "1. aircrafts_data\n",
      "---------------------------\n",
      "  aircraft_code                                              model  range\n",
      "0           773    {\"en\": \"Boeing 777-300\", \"ru\": \"Боинг 777-300\"}  11100\n",
      "1           763    {\"en\": \"Boeing 767-300\", \"ru\": \"Боинг 767-300\"}   7900\n",
      "2           SU9  {\"en\": \"Sukhoi Superjet-100\", \"ru\": \"Сухой Суп...   3000\n",
      "3           320  {\"en\": \"Airbus A320-200\", \"ru\": \"Аэробус A320-...   5700\n",
      "4           321  {\"en\": \"Airbus A321-200\", \"ru\": \"Аэробус A321-...   5600\n",
      "---------------------------\n",
      "2. airports_data\n",
      "---------------------------\n",
      "  airport_code                                       airport_name  \\\n",
      "0          YKS          {\"en\": \"Yakutsk Airport\", \"ru\": \"Якутск\"}   \n",
      "1          MJZ            {\"en\": \"Mirny Airport\", \"ru\": \"Мирный\"}   \n",
      "2          KHV  {\"en\": \"Khabarovsk-Novy Airport\", \"ru\": \"Хабар...   \n",
      "3          PKC        {\"en\": \"Yelizovo Airport\", \"ru\": \"Елизово\"}   \n",
      "4          UUS  {\"en\": \"Yuzhno-Sakhalinsk Airport\", \"ru\": \"Хом...   \n",
      "\n",
      "                                                city  \\\n",
      "0                  {\"en\": \"Yakutsk\", \"ru\": \"Якутск\"}   \n",
      "1                   {\"en\": \"Mirnyj\", \"ru\": \"Мирный\"}   \n",
      "2            {\"en\": \"Khabarovsk\", \"ru\": \"Хабаровск\"}   \n",
      "3  {\"en\": \"Petropavlovsk\", \"ru\": \"Петропавловск-К...   \n",
      "4  {\"en\": \"Yuzhno-Sakhalinsk\", \"ru\": \"Южно-Сахали...   \n",
      "\n",
      "                                 coordinates          timezone  \n",
      "0      (129.77099609375,62.0932998657226562)      Asia/Yakutsk  \n",
      "1    (114.03900146484375,62.534698486328125)      Asia/Yakutsk  \n",
      "2      (135.18800354004,48.5279998779300001)  Asia/Vladivostok  \n",
      "3  (158.453994750976562,53.1679000854492188)    Asia/Kamchatka  \n",
      "4  (142.718002319335938,46.8886985778808594)     Asia/Sakhalin  \n",
      "---------------------------\n",
      "3. boarding_passes\n",
      "---------------------------\n",
      "       ticket_no  flight_id  boarding_no seat_no\n",
      "0  0005435212351      30625            1      2D\n",
      "1  0005435212386      30625            2      3G\n",
      "2  0005435212381      30625            3      4H\n",
      "3  0005432211370      30625            4      5D\n",
      "4  0005435212357      30625            5     11A\n",
      "---------------------------\n",
      "4. bookings\n",
      "---------------------------\n",
      "  book_ref               book_date  total_amount\n",
      "0   00000F  2017-07-05 03:12:00+03        265700\n",
      "1   000012  2017-07-14 09:02:00+03         37900\n",
      "2   000068  2017-08-15 14:27:00+03         18100\n",
      "3   000181  2017-08-10 13:28:00+03        131800\n",
      "4   0002D8  2017-08-07 21:40:00+03         23600\n",
      "---------------------------\n",
      "5. flights\n",
      "---------------------------\n",
      "   flight_id flight_no     scheduled_departure       scheduled_arrival  \\\n",
      "0       1185    PG0134  2017-09-10 09:50:00+03  2017-09-10 14:55:00+03   \n",
      "1       3979    PG0052  2017-08-25 14:50:00+03  2017-08-25 17:35:00+03   \n",
      "2       4739    PG0561  2017-09-05 12:30:00+03  2017-09-05 14:15:00+03   \n",
      "3       5502    PG0529  2017-09-12 09:50:00+03  2017-09-12 11:20:00+03   \n",
      "4       6938    PG0461  2017-09-04 12:25:00+03  2017-09-04 13:20:00+03   \n",
      "\n",
      "  departure_airport arrival_airport     status aircraft_code actual_departure  \\\n",
      "0               DME             BTK  Scheduled           319               \\N   \n",
      "1               VKO             HMA  Scheduled           CR2               \\N   \n",
      "2               VKO             AER  Scheduled           763               \\N   \n",
      "3               SVO             UFA  Scheduled           763               \\N   \n",
      "4               SVO             ULV  Scheduled           SU9               \\N   \n",
      "\n",
      "  actual_arrival  \n",
      "0             \\N  \n",
      "1             \\N  \n",
      "2             \\N  \n",
      "3             \\N  \n",
      "4             \\N  \n",
      "---------------------------\n",
      "6. seats\n",
      "---------------------------\n",
      "  aircraft_code seat_no fare_conditions\n",
      "0           319      2A        Business\n",
      "1           319      2C        Business\n",
      "2           319      2D        Business\n",
      "3           319      2F        Business\n",
      "4           319      3A        Business\n",
      "---------------------------\n",
      "7. ticket_flights\n",
      "---------------------------\n",
      "       ticket_no  flight_id fare_conditions  amount\n",
      "0  0005432159776      30625        Business   42100\n",
      "1  0005435212351      30625        Business   42100\n",
      "2  0005435212386      30625        Business   42100\n",
      "3  0005435212381      30625        Business   42100\n",
      "4  0005432211370      30625        Business   42100\n",
      "---------------------------\n",
      "8. tickets\n",
      "---------------------------\n",
      "       ticket_no book_ref passenger_id\n",
      "0  0005432000987   06B046  8149 604011\n",
      "1  0005432000988   06B046  8499 420203\n",
      "2  0005432000989   E170C3  1011 752484\n",
      "3  0005432000990   E170C3  4849 400049\n",
      "4  0005432000991   F313DD  6615 976589\n"
     ]
    }
   ],
   "source": [
    "print(\"Checking all tables:\")\n",
    "i=0\n",
    "for table_name in table_list:\n",
    "    i+=1\n",
    "    df = pd.read_sql_query(f\"SELECT * FROM {table_name};\",connection)\n",
    "    print(\"---------------------------\")\n",
    "    print(f\"{i}. {table_name}\")\n",
    "    print(\"---------------------------\")\n",
    "    print(f\"{df.head(5)}\")"
   ]
  },
  {
   "cell_type": "code",
   "execution_count": 6,
   "id": "960820cd",
   "metadata": {
    "collapsed": true
   },
   "outputs": [
    {
     "name": "stdout",
     "output_type": "stream",
     "text": [
      "Types of Columns of all tables:\n",
      "---------------------\n",
      "1: aircrafts_data\n",
      "('aircraft_code', 'character(3)')\n",
      "('model', 'jsonb')\n",
      "('range', 'INTEGER')\n",
      "---------------------\n",
      "2: airports_data\n",
      "('airport_code', 'character(3)')\n",
      "('airport_name', 'jsonb')\n",
      "('city', 'jsonb')\n",
      "('coordinates', 'point')\n",
      "('timezone', 'TEXT')\n",
      "---------------------\n",
      "3: boarding_passes\n",
      "('ticket_no', 'character(13)')\n",
      "('flight_id', 'INTEGER')\n",
      "('boarding_no', 'INTEGER')\n",
      "('seat_no', 'character varying(4)')\n",
      "---------------------\n",
      "4: bookings\n",
      "('book_ref', 'character(6)')\n",
      "('book_date', 'timestamp with time zone')\n",
      "('total_amount', 'numeric(10,2)')\n",
      "---------------------\n",
      "5: flights\n",
      "('flight_id', 'INTEGER')\n",
      "('flight_no', 'character(6)')\n",
      "('scheduled_departure', 'timestamp with time zone')\n",
      "('scheduled_arrival', 'timestamp with time zone')\n",
      "('departure_airport', 'character(3)')\n",
      "('arrival_airport', 'character(3)')\n",
      "('status', 'character varying(20)')\n",
      "('aircraft_code', 'character(3)')\n",
      "('actual_departure', 'timestamp with time zone')\n",
      "('actual_arrival', 'timestamp with time zone')\n",
      "---------------------\n",
      "6: seats\n",
      "('aircraft_code', 'character(3)')\n",
      "('seat_no', 'character varying(4)')\n",
      "('fare_conditions', 'character varying(10)')\n",
      "---------------------\n",
      "7: ticket_flights\n",
      "('ticket_no', 'character(13)')\n",
      "('flight_id', 'INTEGER')\n",
      "('fare_conditions', 'character varying(10)')\n",
      "('amount', 'numeric(10,2)')\n",
      "---------------------\n",
      "8: tickets\n",
      "('ticket_no', 'character(13)')\n",
      "('book_ref', 'character(6)')\n",
      "('passenger_id', 'character varying(20)')\n"
     ]
    }
   ],
   "source": [
    "print(\"Types of Columns of all tables:\")\n",
    "i=0\n",
    "for table_name in table_list:\n",
    "    print(\"---------------------\")\n",
    "    i+=1\n",
    "    cursor.execute(f\"PRAGMA table_info({table_name})\")\n",
    "    column_info = cursor.fetchall()\n",
    "    print(f\"{i}: {table_name}\")\n",
    "    for column in column_info:\n",
    "        print(column[1:3])"
   ]
  },
  {
   "cell_type": "code",
   "execution_count": 7,
   "id": "ebb8df84",
   "metadata": {
    "scrolled": true
   },
   "outputs": [
    {
     "name": "stdout",
     "output_type": "stream",
     "text": [
      "Checking null values:\n",
      "---------------------------\n",
      "1. aircrafts_data\n",
      "---------------------------\n",
      "aircraft_code    0\n",
      "model            0\n",
      "range            0\n",
      "dtype: int64\n",
      "---------------------------\n",
      "2. airports_data\n",
      "---------------------------\n",
      "airport_code    0\n",
      "airport_name    0\n",
      "city            0\n",
      "coordinates     0\n",
      "timezone        0\n",
      "dtype: int64\n",
      "---------------------------\n",
      "3. boarding_passes\n",
      "---------------------------\n",
      "ticket_no      0\n",
      "flight_id      0\n",
      "boarding_no    0\n",
      "seat_no        0\n",
      "dtype: int64\n",
      "---------------------------\n",
      "4. bookings\n",
      "---------------------------\n",
      "book_ref        0\n",
      "book_date       0\n",
      "total_amount    0\n",
      "dtype: int64\n",
      "---------------------------\n",
      "5. flights\n",
      "---------------------------\n",
      "flight_id              0\n",
      "flight_no              0\n",
      "scheduled_departure    0\n",
      "scheduled_arrival      0\n",
      "departure_airport      0\n",
      "arrival_airport        0\n",
      "status                 0\n",
      "aircraft_code          0\n",
      "actual_departure       0\n",
      "actual_arrival         0\n",
      "dtype: int64\n",
      "---------------------------\n",
      "6. seats\n",
      "---------------------------\n",
      "aircraft_code      0\n",
      "seat_no            0\n",
      "fare_conditions    0\n",
      "dtype: int64\n",
      "---------------------------\n",
      "7. ticket_flights\n",
      "---------------------------\n",
      "ticket_no          0\n",
      "flight_id          0\n",
      "fare_conditions    0\n",
      "amount             0\n",
      "dtype: int64\n",
      "---------------------------\n",
      "8. tickets\n",
      "---------------------------\n",
      "ticket_no       0\n",
      "book_ref        0\n",
      "passenger_id    0\n",
      "dtype: int64\n"
     ]
    }
   ],
   "source": [
    "print(\"Checking null values:\") #No null values = Data is already clean\n",
    "i=0\n",
    "for table_name in table_list:\n",
    "    i+=1\n",
    "    df = pd.read_sql_query(f\"SELECT * FROM {table_name};\",connection)\n",
    "    print(\"---------------------------\")\n",
    "    print(f\"{i}. {table_name}\")\n",
    "    print(\"---------------------------\")\n",
    "    print(f\"{df.isnull().sum()}\")"
   ]
  },
  {
   "cell_type": "markdown",
   "id": "409a44b5",
   "metadata": {},
   "source": [
    "### 4. Basic Analysis"
   ]
  },
  {
   "cell_type": "markdown",
   "id": "89e33b9b",
   "metadata": {},
   "source": [
    "#### Q1. How many planes have more than 100 seats?"
   ]
  },
  {
   "cell_type": "code",
   "execution_count": 8,
   "id": "41664336",
   "metadata": {},
   "outputs": [
    {
     "name": "stdout",
     "output_type": "stream",
     "text": [
      "List of all aircrafts having more than 100 seats:\n",
      "╒══════════╤══════════════════╤═══════════════╕\n",
      "│   S. No. │ Aircraft Model   │   Total Seats │\n",
      "╞══════════╪══════════════════╪═══════════════╡\n",
      "│        1 │ Airbus A319-100  │           116 │\n",
      "├──────────┼──────────────────┼───────────────┤\n",
      "│        2 │ Boeing 737-300   │           130 │\n",
      "├──────────┼──────────────────┼───────────────┤\n",
      "│        3 │ Airbus A320-200  │           140 │\n",
      "├──────────┼──────────────────┼───────────────┤\n",
      "│        4 │ Airbus A321-200  │           170 │\n",
      "├──────────┼──────────────────┼───────────────┤\n",
      "│        5 │ Boeing 767-300   │           222 │\n",
      "├──────────┼──────────────────┼───────────────┤\n",
      "│        6 │ Boeing 777-300   │           402 │\n",
      "╘══════════╧══════════════════╧═══════════════╛\n"
     ]
    }
   ],
   "source": [
    "cursor.execute(\"\"\"\n",
    "    SELECT model, COUNT(*)\n",
    "    FROM seats\n",
    "    INNER JOIN aircrafts_data ON aircrafts_data.aircraft_code = seats.aircraft_code\n",
    "    GROUP BY seats.aircraft_code\n",
    "    HAVING COUNT(*) > 100\n",
    "    ORDER BY COUNT(*)\n",
    "\"\"\")\n",
    "\n",
    "print(\"List of all aircrafts having more than 100 seats:\")\n",
    "\n",
    "table_data = []\n",
    "i = 1\n",
    "for data in cursor.fetchall():\n",
    "    name = json.loads(data[0])[\"en\"]\n",
    "    table_data.append([i, name, data[1]])\n",
    "    i += 1\n",
    "\n",
    "headers = [\"S. No.\", \"Aircraft Model\", \"Total Seats\"]\n",
    "table = tabulate(table_data, headers, tablefmt=\"fancy_grid\")\n",
    "print(table)"
   ]
  },
  {
   "cell_type": "markdown",
   "id": "37a5a37d",
   "metadata": {},
   "source": [
    "#### Q2. How the number of tickets booked & total amount earned changed with the time?"
   ]
  },
  {
   "cell_type": "code",
   "execution_count": 10,
   "id": "e8763ecb",
   "metadata": {},
   "outputs": [
    {
     "data": {
      "image/png": "[encoded data removed]",
      "text/plain": [
       "<Figure size 1800x600 with 1 Axes>"
      ]
     },
     "metadata": {},
     "output_type": "display_data"
    }
   ],
   "source": [
    "tickets = pd.read_sql_query(\"\"\"select * from tickets inner join bookings on tickets.book_ref = bookings.book_ref;\"\"\",connection)\n",
    "tickets[\"book_date\"] = pd.to_datetime(tickets[\"book_date\"])\n",
    "tickets[\"date\"] = tickets[\"book_date\"].dt.date\n",
    "data = tickets.groupby(\"date\")[[\"date\"]].count()\n",
    "\n",
    "plt.figure(figsize=(18, 6))\n",
    "plt.plot(data.index, data[\"date\"], marker=\"^\", linestyle=\"-\", color=\"blue\")\n",
    "plt.title(\"Number of Tickets Booked per Day\")\n",
    "plt.xlabel(\"Date\")\n",
    "plt.ylabel(\"Number of Tickets\")\n",
    "plt.xticks(rotation=45)\n",
    "plt.grid(True)\n",
    "plt.show()"
   ]
  },
  {
   "cell_type": "code",
   "execution_count": 11,
   "id": "6b1a18b5",
   "metadata": {},
   "outputs": [
    {
     "data": {
      "image/png": "[encoded data removed]",
      "text/plain": [
       "<Figure size 1800x600 with 1 Axes>"
      ]
     },
     "metadata": {},
     "output_type": "display_data"
    }
   ],
   "source": [
    "bookings = pd.read_sql_query(\"\"\"select * from bookings;\"\"\",connection)\n",
    "bookings[\"date\"] = pd.to_datetime(bookings[\"book_date\"]).dt.date\n",
    "data = bookings.groupby(\"date\")[[\"total_amount\"]].sum()\n",
    "\n",
    "plt.figure(figsize=(18, 6))\n",
    "plt.plot(data.index, data[\"total_amount\"], marker=\"^\", linestyle=\"-\", color=\"blue\")\n",
    "plt.title(\"Earnings plot\")\n",
    "plt.xlabel(\"Date\")\n",
    "plt.ylabel(\"Earnings per Day\")\n",
    "plt.xticks(rotation=45)\n",
    "plt.grid(True)\n",
    "plt.show()"
   ]
  },
  {
   "cell_type": "markdown",
   "id": "cb388364",
   "metadata": {},
   "source": [
    "#### Q3. Calculate the average charges for each aircraft with different fair conditions."
   ]
  },
  {
   "cell_type": "code",
   "execution_count": 22,
   "id": "c6ba09dd",
   "metadata": {},
   "outputs": [
    {
     "data": {
      "image/png": "[encoded data removed]",
      "text/plain": [
       "<Figure size 640x480 with 1 Axes>"
      ]
     },
     "metadata": {},
     "output_type": "display_data"
    }
   ],
   "source": [
    "df = pd.read_sql_query(\"\"\"select aircraft_code,fare_conditions, avg(amount) from ticket_flights inner join flights on ticket_flights.flight_id = flights.flight_id group by aircraft_code,fare_conditions order by avg(amount) desc;\"\"\",connection)\n",
    "\n",
    "sns.barplot(data=df, x=\"aircraft_code\", y=\"avg(amount)\", hue=\"fare_conditions\")\n",
    "\n",
    "# Set plot aesthetics\n",
    "plt.xlabel(\"Aircraft Code\")\n",
    "plt.ylabel(\"Average Amount\")\n",
    "plt.title(\"Average Amount by Aircraft Code and Fare Conditions\")\n",
    "plt.legend(loc=\"best\")\n",
    "\n",
    "# Rotate x-axis labels for better readability\n",
    "plt.xticks(rotation=45)\n",
    "\n",
    "# Display the plot\n",
    "plt.show()"
   ]
  },
  {
   "cell_type": "markdown",
   "id": "1aab76b7",
   "metadata": {},
   "source": [
    "### 4. Analyzing Occupancy Rate"
   ]
  },
  {
   "cell_type": "markdown",
   "id": "d1fc52a7",
   "metadata": {},
   "source": [
    "#### Q1. For each aircraft, calculate the total revenue per year and average revenue per ticket"
   ]
  },
  {
   "cell_type": "code",
   "execution_count": 30,
   "id": "4db004ec",
   "metadata": {},
   "outputs": [
    {
     "data": {
      "text/html": [
       "<div>\n",
       "<style scoped>\n",
       "    .dataframe tbody tr th:only-of-type {\n",
       "        vertical-align: middle;\n",
       "    }\n",
       "\n",
       "    .dataframe tbody tr th {\n",
       "        vertical-align: top;\n",
       "    }\n",
       "\n",
       "    .dataframe thead th {\n",
       "        text-align: right;\n",
       "    }\n",
       "</style>\n",
       "<table border=\"1\" class=\"dataframe\">\n",
       "  <thead>\n",
       "    <tr style=\"text-align: right;\">\n",
       "      <th></th>\n",
       "      <th>aircraft_code</th>\n",
       "      <th>total_revenue</th>\n",
       "      <th>ticket_count</th>\n",
       "      <th>avg_revenue_per_ticket</th>\n",
       "    </tr>\n",
       "  </thead>\n",
       "  <tbody>\n",
       "    <tr>\n",
       "      <th>0</th>\n",
       "      <td>319</td>\n",
       "      <td>2706163100</td>\n",
       "      <td>52853</td>\n",
       "      <td>51201</td>\n",
       "    </tr>\n",
       "    <tr>\n",
       "      <th>1</th>\n",
       "      <td>321</td>\n",
       "      <td>1638164100</td>\n",
       "      <td>107129</td>\n",
       "      <td>15291</td>\n",
       "    </tr>\n",
       "    <tr>\n",
       "      <th>2</th>\n",
       "      <td>733</td>\n",
       "      <td>1426552100</td>\n",
       "      <td>86102</td>\n",
       "      <td>16568</td>\n",
       "    </tr>\n",
       "    <tr>\n",
       "      <th>3</th>\n",
       "      <td>763</td>\n",
       "      <td>4371277100</td>\n",
       "      <td>124774</td>\n",
       "      <td>35033</td>\n",
       "    </tr>\n",
       "    <tr>\n",
       "      <th>4</th>\n",
       "      <td>773</td>\n",
       "      <td>3431205500</td>\n",
       "      <td>144376</td>\n",
       "      <td>23765</td>\n",
       "    </tr>\n",
       "    <tr>\n",
       "      <th>5</th>\n",
       "      <td>CN1</td>\n",
       "      <td>96373800</td>\n",
       "      <td>14672</td>\n",
       "      <td>6568</td>\n",
       "    </tr>\n",
       "    <tr>\n",
       "      <th>6</th>\n",
       "      <td>CR2</td>\n",
       "      <td>1982760500</td>\n",
       "      <td>150122</td>\n",
       "      <td>13207</td>\n",
       "    </tr>\n",
       "    <tr>\n",
       "      <th>7</th>\n",
       "      <td>SU9</td>\n",
       "      <td>5114484700</td>\n",
       "      <td>365698</td>\n",
       "      <td>13985</td>\n",
       "    </tr>\n",
       "  </tbody>\n",
       "</table>\n",
       "</div>"
      ],
      "text/plain": [
       "  aircraft_code  total_revenue  ticket_count  avg_revenue_per_ticket\n",
       "0           319     2706163100         52853                   51201\n",
       "1           321     1638164100        107129                   15291\n",
       "2           733     1426552100         86102                   16568\n",
       "3           763     4371277100        124774                   35033\n",
       "4           773     3431205500        144376                   23765\n",
       "5           CN1       96373800         14672                    6568\n",
       "6           CR2     1982760500        150122                   13207\n",
       "7           SU9     5114484700        365698                   13985"
      ]
     },
     "execution_count": 30,
     "metadata": {},
     "output_type": "execute_result"
    }
   ],
   "source": [
    "pd.read_sql_query(\"\"\"select aircraft_code, total_revenue, ticket_count, total_revenue/ticket_count as avg_revenue_per_ticket from \n",
    "(select aircraft_code, count(*) as ticket_count, sum(amount) as total_revenue from ticket_flights\n",
    "                    join flights on ticket_flights.flight_id = flights.flight_id group by aircraft_code)\"\"\",connection)"
   ]
  },
  {
   "cell_type": "markdown",
   "id": "2763b384",
   "metadata": {},
   "source": [
    "#### Q2. Calculate the average occupancy per aircraft."
   ]
  },
  {
   "cell_type": "code",
   "execution_count": 41,
   "id": "55876d91",
   "metadata": {},
   "outputs": [
    {
     "data": {
      "text/html": [
       "<div>\n",
       "<style scoped>\n",
       "    .dataframe tbody tr th:only-of-type {\n",
       "        vertical-align: middle;\n",
       "    }\n",
       "\n",
       "    .dataframe tbody tr th {\n",
       "        vertical-align: top;\n",
       "    }\n",
       "\n",
       "    .dataframe thead th {\n",
       "        text-align: right;\n",
       "    }\n",
       "</style>\n",
       "<table border=\"1\" class=\"dataframe\">\n",
       "  <thead>\n",
       "    <tr style=\"text-align: right;\">\n",
       "      <th></th>\n",
       "      <th>aircraft_code</th>\n",
       "      <th>booked_seats</th>\n",
       "      <th>num_seats</th>\n",
       "      <th>occupancy_rate</th>\n",
       "    </tr>\n",
       "  </thead>\n",
       "  <tbody>\n",
       "    <tr>\n",
       "      <th>0</th>\n",
       "      <td>319</td>\n",
       "      <td>53.583181</td>\n",
       "      <td>116</td>\n",
       "      <td>0.461924</td>\n",
       "    </tr>\n",
       "    <tr>\n",
       "      <th>1</th>\n",
       "      <td>321</td>\n",
       "      <td>88.809231</td>\n",
       "      <td>170</td>\n",
       "      <td>0.522407</td>\n",
       "    </tr>\n",
       "    <tr>\n",
       "      <th>2</th>\n",
       "      <td>733</td>\n",
       "      <td>80.255462</td>\n",
       "      <td>130</td>\n",
       "      <td>0.617350</td>\n",
       "    </tr>\n",
       "    <tr>\n",
       "      <th>3</th>\n",
       "      <td>763</td>\n",
       "      <td>113.937294</td>\n",
       "      <td>222</td>\n",
       "      <td>0.513231</td>\n",
       "    </tr>\n",
       "    <tr>\n",
       "      <th>4</th>\n",
       "      <td>773</td>\n",
       "      <td>264.925806</td>\n",
       "      <td>402</td>\n",
       "      <td>0.659019</td>\n",
       "    </tr>\n",
       "    <tr>\n",
       "      <th>5</th>\n",
       "      <td>CN1</td>\n",
       "      <td>6.004431</td>\n",
       "      <td>12</td>\n",
       "      <td>0.500369</td>\n",
       "    </tr>\n",
       "    <tr>\n",
       "      <th>6</th>\n",
       "      <td>CR2</td>\n",
       "      <td>21.482847</td>\n",
       "      <td>50</td>\n",
       "      <td>0.429657</td>\n",
       "    </tr>\n",
       "    <tr>\n",
       "      <th>7</th>\n",
       "      <td>SU9</td>\n",
       "      <td>56.812113</td>\n",
       "      <td>97</td>\n",
       "      <td>0.585692</td>\n",
       "    </tr>\n",
       "  </tbody>\n",
       "</table>\n",
       "</div>"
      ],
      "text/plain": [
       "  aircraft_code  booked_seats  num_seats  occupancy_rate\n",
       "0           319     53.583181        116        0.461924\n",
       "1           321     88.809231        170        0.522407\n",
       "2           733     80.255462        130        0.617350\n",
       "3           763    113.937294        222        0.513231\n",
       "4           773    264.925806        402        0.659019\n",
       "5           CN1      6.004431         12        0.500369\n",
       "6           CR2     21.482847         50        0.429657\n",
       "7           SU9     56.812113         97        0.585692"
      ]
     },
     "execution_count": 41,
     "metadata": {},
     "output_type": "execute_result"
    }
   ],
   "source": [
    "occupancy_rate = pd.read_sql_query(\"\"\"select a.aircraft_code, avg(a.seats_count) as booked_seats,b.num_seats, avg(a.seats_count)/num_seats as occupancy_rate\n",
    "from \n",
    "(select aircraft_code, flights.flight_id, count(*) as seats_count from boarding_passes inner join flights on boarding_passes.flight_id = flights.flight_id group by aircraft_code, flights.flight_id) as a \n",
    "inner join\n",
    "(select aircraft_code, count(*) as num_seats from seats group by aircraft_code) as b \n",
    "on \n",
    "a.aircraft_code = b.aircraft_code \n",
    "group by a.aircraft_code;\"\"\",connection)\n",
    "\n",
    "occupancy_rate"
   ]
  },
  {
   "cell_type": "markdown",
   "id": "6474b07e",
   "metadata": {},
   "source": [
    "#### Q3. Calculate by how much the total annual turnover could increase by giving all aircraft a 10% higher occupancy rate."
   ]
  },
  {
   "cell_type": "code",
   "execution_count": 42,
   "id": "41a10421",
   "metadata": {},
   "outputs": [],
   "source": [
    "occupancy_rate[\"Inc occupancy rate\"] = occupancy_rate[\"occupancy_rate\"]*1.1"
   ]
  },
  {
   "cell_type": "code",
   "execution_count": 43,
   "id": "0e767ab3",
   "metadata": {},
   "outputs": [
    {
     "data": {
      "text/html": [
       "<div>\n",
       "<style scoped>\n",
       "    .dataframe tbody tr th:only-of-type {\n",
       "        vertical-align: middle;\n",
       "    }\n",
       "\n",
       "    .dataframe tbody tr th {\n",
       "        vertical-align: top;\n",
       "    }\n",
       "\n",
       "    .dataframe thead th {\n",
       "        text-align: right;\n",
       "    }\n",
       "</style>\n",
       "<table border=\"1\" class=\"dataframe\">\n",
       "  <thead>\n",
       "    <tr style=\"text-align: right;\">\n",
       "      <th></th>\n",
       "      <th>aircraft_code</th>\n",
       "      <th>booked_seats</th>\n",
       "      <th>num_seats</th>\n",
       "      <th>occupancy_rate</th>\n",
       "      <th>Inc occupancy rate</th>\n",
       "    </tr>\n",
       "  </thead>\n",
       "  <tbody>\n",
       "    <tr>\n",
       "      <th>0</th>\n",
       "      <td>319</td>\n",
       "      <td>53.583181</td>\n",
       "      <td>116</td>\n",
       "      <td>0.461924</td>\n",
       "      <td>0.508116</td>\n",
       "    </tr>\n",
       "    <tr>\n",
       "      <th>1</th>\n",
       "      <td>321</td>\n",
       "      <td>88.809231</td>\n",
       "      <td>170</td>\n",
       "      <td>0.522407</td>\n",
       "      <td>0.574648</td>\n",
       "    </tr>\n",
       "    <tr>\n",
       "      <th>2</th>\n",
       "      <td>733</td>\n",
       "      <td>80.255462</td>\n",
       "      <td>130</td>\n",
       "      <td>0.617350</td>\n",
       "      <td>0.679085</td>\n",
       "    </tr>\n",
       "    <tr>\n",
       "      <th>3</th>\n",
       "      <td>763</td>\n",
       "      <td>113.937294</td>\n",
       "      <td>222</td>\n",
       "      <td>0.513231</td>\n",
       "      <td>0.564554</td>\n",
       "    </tr>\n",
       "    <tr>\n",
       "      <th>4</th>\n",
       "      <td>773</td>\n",
       "      <td>264.925806</td>\n",
       "      <td>402</td>\n",
       "      <td>0.659019</td>\n",
       "      <td>0.724921</td>\n",
       "    </tr>\n",
       "    <tr>\n",
       "      <th>5</th>\n",
       "      <td>CN1</td>\n",
       "      <td>6.004431</td>\n",
       "      <td>12</td>\n",
       "      <td>0.500369</td>\n",
       "      <td>0.550406</td>\n",
       "    </tr>\n",
       "    <tr>\n",
       "      <th>6</th>\n",
       "      <td>CR2</td>\n",
       "      <td>21.482847</td>\n",
       "      <td>50</td>\n",
       "      <td>0.429657</td>\n",
       "      <td>0.472623</td>\n",
       "    </tr>\n",
       "    <tr>\n",
       "      <th>7</th>\n",
       "      <td>SU9</td>\n",
       "      <td>56.812113</td>\n",
       "      <td>97</td>\n",
       "      <td>0.585692</td>\n",
       "      <td>0.644261</td>\n",
       "    </tr>\n",
       "  </tbody>\n",
       "</table>\n",
       "</div>"
      ],
      "text/plain": [
       "  aircraft_code  booked_seats  num_seats  occupancy_rate  Inc occupancy rate\n",
       "0           319     53.583181        116        0.461924            0.508116\n",
       "1           321     88.809231        170        0.522407            0.574648\n",
       "2           733     80.255462        130        0.617350            0.679085\n",
       "3           763    113.937294        222        0.513231            0.564554\n",
       "4           773    264.925806        402        0.659019            0.724921\n",
       "5           CN1      6.004431         12        0.500369            0.550406\n",
       "6           CR2     21.482847         50        0.429657            0.472623\n",
       "7           SU9     56.812113         97        0.585692            0.644261"
      ]
     },
     "execution_count": 43,
     "metadata": {},
     "output_type": "execute_result"
    }
   ],
   "source": [
    "occupancy_rate"
   ]
  },
  {
   "cell_type": "code",
   "execution_count": 44,
   "id": "5e8e8897",
   "metadata": {},
   "outputs": [],
   "source": [
    "total_revenue = pd.read_sql_query(\"\"\"select aircraft_code, sum(amount) as total_revenue from ticket_flights\n",
    "join flights on ticket_flights.flight_id = flights.flight_id group by aircraft_code;\"\"\",connection)"
   ]
  },
  {
   "cell_type": "code",
   "execution_count": 45,
   "id": "1f6aac70",
   "metadata": {},
   "outputs": [],
   "source": [
    "occupancy_rate[\"Inc Total Annual Turnover\"] = (total_revenue[\"total_revenue\"]/occupancy_rate[\"occupancy_rate\"])*occupancy_rate[\"Inc occupancy rate\"]"
   ]
  },
  {
   "cell_type": "code",
   "execution_count": 47,
   "id": "319a0845",
   "metadata": {},
   "outputs": [
    {
     "data": {
      "text/html": [
       "<div>\n",
       "<style scoped>\n",
       "    .dataframe tbody tr th:only-of-type {\n",
       "        vertical-align: middle;\n",
       "    }\n",
       "\n",
       "    .dataframe tbody tr th {\n",
       "        vertical-align: top;\n",
       "    }\n",
       "\n",
       "    .dataframe thead th {\n",
       "        text-align: right;\n",
       "    }\n",
       "</style>\n",
       "<table border=\"1\" class=\"dataframe\">\n",
       "  <thead>\n",
       "    <tr style=\"text-align: right;\">\n",
       "      <th></th>\n",
       "      <th>aircraft_code</th>\n",
       "      <th>booked_seats</th>\n",
       "      <th>num_seats</th>\n",
       "      <th>occupancy_rate</th>\n",
       "      <th>Inc occupancy rate</th>\n",
       "      <th>Inc Total Annual Turnover</th>\n",
       "    </tr>\n",
       "  </thead>\n",
       "  <tbody>\n",
       "    <tr>\n",
       "      <th>0</th>\n",
       "      <td>319</td>\n",
       "      <td>53.58318098720292</td>\n",
       "      <td>116</td>\n",
       "      <td>0.46192397402761143</td>\n",
       "      <td>0.5081163714303726</td>\n",
       "      <td>2976779410.0</td>\n",
       "    </tr>\n",
       "    <tr>\n",
       "      <th>1</th>\n",
       "      <td>321</td>\n",
       "      <td>88.80923076923077</td>\n",
       "      <td>170</td>\n",
       "      <td>0.5224072398190045</td>\n",
       "      <td>0.574647963800905</td>\n",
       "      <td>1801980510.0</td>\n",
       "    </tr>\n",
       "    <tr>\n",
       "      <th>2</th>\n",
       "      <td>733</td>\n",
       "      <td>80.25546218487395</td>\n",
       "      <td>130</td>\n",
       "      <td>0.617349709114415</td>\n",
       "      <td>0.6790846800258565</td>\n",
       "      <td>1569207310.0000002</td>\n",
       "    </tr>\n",
       "    <tr>\n",
       "      <th>3</th>\n",
       "      <td>763</td>\n",
       "      <td>113.93729372937294</td>\n",
       "      <td>222</td>\n",
       "      <td>0.5132310528350132</td>\n",
       "      <td>0.5645541581185146</td>\n",
       "      <td>4808404810.0</td>\n",
       "    </tr>\n",
       "    <tr>\n",
       "      <th>4</th>\n",
       "      <td>773</td>\n",
       "      <td>264.9258064516129</td>\n",
       "      <td>402</td>\n",
       "      <td>0.659019419033863</td>\n",
       "      <td>0.7249213609372493</td>\n",
       "      <td>3774326050.0000005</td>\n",
       "    </tr>\n",
       "    <tr>\n",
       "      <th>5</th>\n",
       "      <td>CN1</td>\n",
       "      <td>6.004431314623338</td>\n",
       "      <td>12</td>\n",
       "      <td>0.5003692762186115</td>\n",
       "      <td>0.5504062038404727</td>\n",
       "      <td>106011180.00000001</td>\n",
       "    </tr>\n",
       "    <tr>\n",
       "      <th>6</th>\n",
       "      <td>CR2</td>\n",
       "      <td>21.48284690220174</td>\n",
       "      <td>50</td>\n",
       "      <td>0.42965693804403476</td>\n",
       "      <td>0.4726226318484383</td>\n",
       "      <td>2181036550.0</td>\n",
       "    </tr>\n",
       "    <tr>\n",
       "      <th>7</th>\n",
       "      <td>SU9</td>\n",
       "      <td>56.81211267605634</td>\n",
       "      <td>97</td>\n",
       "      <td>0.5856918832583128</td>\n",
       "      <td>0.6442610715841441</td>\n",
       "      <td>5625933170.000001</td>\n",
       "    </tr>\n",
       "  </tbody>\n",
       "</table>\n",
       "</div>"
      ],
      "text/plain": [
       "  aircraft_code       booked_seats  num_seats      occupancy_rate  \\\n",
       "0           319  53.58318098720292        116 0.46192397402761143   \n",
       "1           321  88.80923076923077        170  0.5224072398190045   \n",
       "2           733  80.25546218487395        130   0.617349709114415   \n",
       "3           763 113.93729372937294        222  0.5132310528350132   \n",
       "4           773  264.9258064516129        402   0.659019419033863   \n",
       "5           CN1  6.004431314623338         12  0.5003692762186115   \n",
       "6           CR2  21.48284690220174         50 0.42965693804403476   \n",
       "7           SU9  56.81211267605634         97  0.5856918832583128   \n",
       "\n",
       "   Inc occupancy rate  Inc Total Annual Turnover  \n",
       "0  0.5081163714303726               2976779410.0  \n",
       "1   0.574647963800905               1801980510.0  \n",
       "2  0.6790846800258565         1569207310.0000002  \n",
       "3  0.5645541581185146               4808404810.0  \n",
       "4  0.7249213609372493         3774326050.0000005  \n",
       "5  0.5504062038404727         106011180.00000001  \n",
       "6  0.4726226318484383               2181036550.0  \n",
       "7  0.6442610715841441          5625933170.000001  "
      ]
     },
     "execution_count": 47,
     "metadata": {},
     "output_type": "execute_result"
    }
   ],
   "source": [
    "pd.set_option(\"display.float_format\",str)\n",
    "occupancy_rate"
   ]
  }
 ],
 "metadata": {
  "kernelspec": {
   "display_name": "Python 3 (ipykernel)",
   "language": "python",
   "name": "python3"
  },
  "language_info": {
   "codemirror_mode": {
    "name": "ipython",
    "version": 3
   },
   "file_extension": ".py",
   "mimetype": "text/x-python",
   "name": "python",
   "nbconvert_exporter": "python",
   "pygments_lexer": "ipython3",
   "version": "3.11.4"
  }
 },
 "nbformat": 4,
 "nbformat_minor": 5
}
